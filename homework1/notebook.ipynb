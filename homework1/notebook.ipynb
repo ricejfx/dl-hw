{
 "cells": [
  {
   "cell_type": "markdown",
   "id": "90ecda0d",
   "metadata": {
    "lines_to_next_cell": 0
   },
   "source": [
    "Basic imports and environment checks:\n",
    "- PyTorch version verification is essential for reproducibility\n",
    "- CUDA availability check - we'll need GPU access for future assignments\n",
    "- If CUDA isn't available, try nvidia-smi in terminal to check GPU status"
   ]
  },
  {
   "cell_type": "code",
   "execution_count": 1,
   "id": "ef11d761",
   "metadata": {},
   "outputs": [
    {
     "name": "stdout",
     "output_type": "stream",
     "text": [
      "PyTorch version: 2.5.1+cu124\n",
      "CUDA available: True\n"
     ]
    }
   ],
   "source": [
    "import torch\n",
    "\n",
    "print(f\"PyTorch version: {torch.__version__}\")\n",
    "print(f\"CUDA available: {torch.cuda.is_available()}\")"
   ]
  },
  {
   "cell_type": "markdown",
   "id": "0e2a01ed",
   "metadata": {},
   "source": [
    "Converting Python list to tensor - torch.as_tensor() is preferred over torch.tensor()\n",
    "as it can share memory with original data"
   ]
  },
  {
   "cell_type": "code",
   "execution_count": 10,
   "id": "30af6aaf",
   "metadata": {},
   "outputs": [
    {
     "name": "stdout",
     "output_type": "stream",
     "text": [
      "tensor([1, 2, 3, 4, 5])\n"
     ]
    }
   ],
   "source": [
    "x = [1, 2, 3, 4, 5]\n",
    "x = torch.as_tensor(x)\n",
    "print(x)"
   ]
  },
  {
   "cell_type": "code",
   "execution_count": 17,
   "id": "cfaa94a6",
   "metadata": {},
   "outputs": [
    {
     "name": "stdout",
     "output_type": "stream",
     "text": [
      "tensor([ 0,  3,  6,  9, 12, 15, 18])\n"
     ]
    }
   ],
   "source": [
    "x = range(20)\n",
    "x = torch.as_tensor(x)\n",
    "y = []\n",
    "for i, v in enumerate(x):\n",
    "    if i % 3 == 0:\n",
    "        y.append(v)\n",
    "        \n",
    "print(torch.stack(y, dim=0))"
   ]
  },
  {
   "cell_type": "code",
   "execution_count": 18,
   "id": "54368682",
   "metadata": {},
   "outputs": [
    {
     "data": {
      "text/plain": [
       "tensor([ 0,  3,  6,  9, 12, 15, 18])"
      ]
     },
     "execution_count": 18,
     "metadata": {},
     "output_type": "execute_result"
    }
   ],
   "source": [
    "x[0::3]"
   ]
  },
  {
   "cell_type": "markdown",
   "id": "a18dd5b2",
   "metadata": {},
   "source": [
    "Creating zero-filled tensor - useful for initializing buffers or placeholder tensors"
   ]
  },
  {
   "cell_type": "code",
   "execution_count": 3,
   "id": "d5a89262",
   "metadata": {},
   "outputs": [
    {
     "name": "stdout",
     "output_type": "stream",
     "text": [
      "tensor([[0., 0., 0., 0.],\n",
      "        [0., 0., 0., 0.],\n",
      "        [0., 0., 0., 0.]])\n"
     ]
    }
   ],
   "source": [
    "x = torch.zeros(3, 4)\n",
    "print(x)"
   ]
  },
  {
   "cell_type": "markdown",
   "id": "00ff67b7",
   "metadata": {},
   "source": [
    "Creating tensor filled with ones - commonly used for masks or initialization"
   ]
  },
  {
   "cell_type": "code",
   "execution_count": 4,
   "id": "b2c648b0",
   "metadata": {},
   "outputs": [
    {
     "name": "stdout",
     "output_type": "stream",
     "text": [
      "tensor([[1., 1., 1., 1.],\n",
      "        [1., 1., 1., 1.],\n",
      "        [1., 1., 1., 1.]])\n"
     ]
    }
   ],
   "source": [
    "x = torch.ones(3, 4)\n",
    "print(x)"
   ]
  },
  {
   "cell_type": "markdown",
   "id": "1c46f1c8",
   "metadata": {},
   "source": [
    "Creating tensor with custom fill value - useful when you need specific constant values"
   ]
  },
  {
   "cell_type": "code",
   "execution_count": 5,
   "id": "58116616",
   "metadata": {},
   "outputs": [
    {
     "name": "stdout",
     "output_type": "stream",
     "text": [
      "tensor([[2, 2, 2, 2],\n",
      "        [2, 2, 2, 2],\n",
      "        [2, 2, 2, 2]])\n"
     ]
    }
   ],
   "source": [
    "x = torch.full((3, 4), fill_value=2)\n",
    "print(x)"
   ]
  },
  {
   "cell_type": "code",
   "execution_count": null,
   "id": "d2b342a6",
   "metadata": {},
   "outputs": [],
   "source": []
  },
  {
   "cell_type": "markdown",
   "id": "fc23e646",
   "metadata": {},
   "source": [
    "Random tensor from normal distribution - key for weight initialization"
   ]
  },
  {
   "cell_type": "code",
   "execution_count": 23,
   "id": "ae283c9d",
   "metadata": {},
   "outputs": [
    {
     "name": "stdout",
     "output_type": "stream",
     "text": [
      "tensor([[[-2.1910,  1.2700,  0.3905],\n",
      "         [ 0.7628, -1.4595,  1.4810],\n",
      "         [-0.9918,  1.8671,  0.3869],\n",
      "         [-1.4160,  0.7261, -0.0239]],\n",
      "\n",
      "        [[-1.4389, -1.2544, -0.1937],\n",
      "         [ 0.2086, -2.3214,  0.2358],\n",
      "         [ 0.5353, -1.1131,  0.5212],\n",
      "         [ 2.0593, -0.5303,  0.5992]],\n",
      "\n",
      "        [[ 0.3545, -0.4999, -0.6398],\n",
      "         [ 0.6103,  0.4201, -1.2869],\n",
      "         [ 0.4473,  0.8353,  0.7800],\n",
      "         [-0.1892,  0.7829, -0.4899]]])\n"
     ]
    }
   ],
   "source": [
    "x = torch.randn(3, 4, 3)\n",
    "print(x)"
   ]
  },
  {
   "cell_type": "code",
   "execution_count": 24,
   "id": "f01af006",
   "metadata": {},
   "outputs": [
    {
     "data": {
      "text/plain": [
       "3"
      ]
     },
     "execution_count": 24,
     "metadata": {},
     "output_type": "execute_result"
    }
   ],
   "source": [
    "x.ndim"
   ]
  },
  {
   "cell_type": "markdown",
   "id": "8a73deef",
   "metadata": {},
   "source": [
    "`zeros_like` creates tensor with same shape/dtype as input but filled with zeros"
   ]
  },
  {
   "cell_type": "code",
   "execution_count": null,
   "id": "78b905d2",
   "metadata": {},
   "outputs": [],
   "source": [
    "x = torch.randn(3, 4)\n",
    "y = torch.zeros_like(x)\n",
    "print(y)"
   ]
  },
  {
   "cell_type": "markdown",
   "id": "53811a84",
   "metadata": {},
   "source": [
    "`ones_like` - similar to before but fills with ones"
   ]
  },
  {
   "cell_type": "code",
   "execution_count": null,
   "id": "1f117386",
   "metadata": {},
   "outputs": [],
   "source": [
    "x = torch.randn(3, 4)\n",
    "y = torch.ones_like(x)\n",
    "print(y)"
   ]
  },
  {
   "cell_type": "markdown",
   "id": "d43370d0",
   "metadata": {},
   "source": [
    "`full_like` - creates tensor matching input shape but with custom fill value"
   ]
  },
  {
   "cell_type": "code",
   "execution_count": null,
   "id": "c07680bb",
   "metadata": {},
   "outputs": [],
   "source": [
    "x = torch.randn(3, 4)\n",
    "y = torch.full_like(x, 5)\n",
    "print(y)"
   ]
  },
  {
   "cell_type": "markdown",
   "id": "3d4db449",
   "metadata": {},
   "source": [
    "`new_tensor` creates tensor with inherited properties (device/dtype) from source"
   ]
  },
  {
   "cell_type": "code",
   "execution_count": null,
   "id": "21708807",
   "metadata": {},
   "outputs": [],
   "source": [
    "x = torch.zeros(3, 4, dtype=torch.bool)\n",
    "y = x.new_tensor([1, 2, 3, 4])\n",
    "print(y)"
   ]
  },
  {
   "cell_type": "markdown",
   "id": "f4b16ecc",
   "metadata": {},
   "source": [
    "Broadcasting example with 2D tensors - shows automatic size matching"
   ]
  },
  {
   "cell_type": "code",
   "execution_count": null,
   "id": "a2e22deb",
   "metadata": {},
   "outputs": [],
   "source": [
    "x = torch.ones(5, 1)\n",
    "y = torch.ones(1, 5)\n",
    "z = x + y\n",
    "print(z, z.shape)"
   ]
  },
  {
   "cell_type": "markdown",
   "id": "dceb2dac",
   "metadata": {},
   "source": [
    "Complex broadcasting with 5D tensors - demonstrates multi-dimension expansion"
   ]
  },
  {
   "cell_type": "code",
   "execution_count": null,
   "id": "972da2c6",
   "metadata": {},
   "outputs": [],
   "source": [
    "x = torch.ones(1, 1, 1, 1, 1)\n",
    "y = torch.ones(2, 1, 3, 1, 2)\n",
    "z = x + y\n",
    "print(z, z.shape)"
   ]
  },
  {
   "cell_type": "markdown",
   "id": "d15a0950",
   "metadata": {},
   "source": [
    "Mean reduction - shows global and dimensional mean calculations"
   ]
  },
  {
   "cell_type": "code",
   "execution_count": null,
   "id": "95b8be73",
   "metadata": {},
   "outputs": [],
   "source": [
    "x = torch.ones(3, 4, 5)\n",
    "print(x.mean())\n",
    "print(x.mean(-1))"
   ]
  },
  {
   "cell_type": "markdown",
   "id": "d6e95712",
   "metadata": {},
   "source": [
    "Sum reduction - demonstrates summing across specified dimensions"
   ]
  },
  {
   "cell_type": "code",
   "execution_count": null,
   "id": "26ab2c0c",
   "metadata": {},
   "outputs": [],
   "source": [
    "x = torch.ones(3, 4, 5)\n",
    "print(x.sum(dim=0))\n",
    "print(x.sum(dim=(1, 2)))"
   ]
  },
  {
   "cell_type": "markdown",
   "id": "5dc197df",
   "metadata": {},
   "source": [
    "`keepdim`` usage - shows difference in output shapes"
   ]
  },
  {
   "cell_type": "code",
   "execution_count": null,
   "id": "e927bc7e",
   "metadata": {},
   "outputs": [],
   "source": [
    "x = torch.ones(3, 4, 5)\n",
    "y = x.sum(dim=(1, 2))\n",
    "z = x.sum(dim=(1, 2), keepdim=True)\n",
    "print(y, y.shape)\n",
    "print(z, z.shape)"
   ]
  },
  {
   "cell_type": "markdown",
   "id": "c2b95c4b",
   "metadata": {},
   "source": [
    "Type conversion example - converting float tensor to long (int64)"
   ]
  },
  {
   "cell_type": "code",
   "execution_count": null,
   "id": "df105ac7",
   "metadata": {},
   "outputs": [],
   "source": [
    "x = torch.randn(5, 5)\n",
    "print(x.to(torch.long))"
   ]
  },
  {
   "cell_type": "markdown",
   "id": "0990e554",
   "metadata": {},
   "source": [
    "Reshaping with view - maintains underlying data pointer"
   ]
  },
  {
   "cell_type": "code",
   "execution_count": null,
   "id": "85b4c3a4",
   "metadata": {},
   "outputs": [],
   "source": [
    "x = torch.randn(2, 3, 2)\n",
    "y = x.view(6, 2)\n",
    "z = x.view(-1, 2)\n",
    "print(y, y.shape)\n",
    "print(z, z.shape)"
   ]
  },
  {
   "cell_type": "markdown",
   "id": "e31cc288",
   "metadata": {},
   "source": [
    "Permute operation - reorders dimensions of tensor"
   ]
  },
  {
   "cell_type": "code",
   "execution_count": null,
   "id": "2cf7edef",
   "metadata": {},
   "outputs": [],
   "source": [
    "x = torch.randn(2, 3, 2)\n",
    "y = x.permute(1, 2, 0)\n",
    "print(y, y.shape)"
   ]
  },
  {
   "cell_type": "markdown",
   "id": "101755a3",
   "metadata": {},
   "source": [
    "Concatenation along specified dimension"
   ]
  },
  {
   "cell_type": "code",
   "execution_count": null,
   "id": "dd30b717",
   "metadata": {},
   "outputs": [],
   "source": [
    "x = torch.ones(2, 3)\n",
    "y = torch.ones(2, 3)\n",
    "z = torch.cat([x, y], dim=0)\n",
    "print(z, z.shape)"
   ]
  },
  {
   "cell_type": "markdown",
   "id": "fdc18588",
   "metadata": {},
   "source": [
    "Stack operation - adds new dimension for combining tensors"
   ]
  },
  {
   "cell_type": "code",
   "execution_count": null,
   "id": "040f19d2",
   "metadata": {
    "lines_to_next_cell": 2
   },
   "outputs": [],
   "source": [
    "x = torch.ones(2, 3)\n",
    "y = torch.ones(2, 3)\n",
    "z = torch.stack([x, y], dim=1)\n",
    "print(z, z.shape)"
   ]
  },
  {
   "cell_type": "markdown",
   "id": "5909ac3a",
   "metadata": {},
   "source": [
    "Performance comparison: Python list operations vs PyTorch operations"
   ]
  },
  {
   "cell_type": "code",
   "execution_count": null,
   "id": "0cfb5ede",
   "metadata": {},
   "outputs": [],
   "source": [
    "import time\n",
    "\n",
    "\n",
    "def add_two_lists(x, y):\n",
    "    z = []\n",
    "    for i, j in zip(x, y):\n",
    "        z.append(i + j)\n",
    "    return z\n",
    "\n",
    "\n",
    "x = torch.ones(5000)\n",
    "y = torch.ones(5000)\n",
    "t1 = time.time()\n",
    "z = add_two_lists(x, y)\n",
    "print(f\"{time.time() - t1:.4f} sec.\")"
   ]
  },
  {
   "cell_type": "markdown",
   "id": "a01b782f",
   "metadata": {},
   "source": [
    "PyTorch vectorized operation - significantly faster"
   ]
  },
  {
   "cell_type": "code",
   "execution_count": null,
   "id": "09fb0cc1",
   "metadata": {},
   "outputs": [],
   "source": [
    "def add_two_lists(x, y):\n",
    "    return x + y\n",
    "\n",
    "\n",
    "x = torch.ones(5000)\n",
    "y = torch.ones(5000)\n",
    "t1 = time.time()\n",
    "z = add_two_lists(x, y)\n",
    "print(f\"{time.time() - t1:.4f} sec.\")"
   ]
  },
  {
   "cell_type": "markdown",
   "id": "e7ca7913",
   "metadata": {},
   "source": [
    "Type conversion examples - showing different conversion methods"
   ]
  },
  {
   "cell_type": "code",
   "execution_count": null,
   "id": "c8a6eb00",
   "metadata": {},
   "outputs": [],
   "source": [
    "x = torch.randn(3, 3)\n",
    "y = torch.zeros(5, 2, dtype=torch.long)\n",
    "print(x.to(torch.float32))\n",
    "print(x.to(torch.bool))\n",
    "print(x.to(y))"
   ]
  },
  {
   "cell_type": "markdown",
   "id": "1aac8520",
   "metadata": {},
   "source": [
    "`arange` examples - different ways to create sequences"
   ]
  },
  {
   "cell_type": "code",
   "execution_count": null,
   "id": "f53a0bcc",
   "metadata": {},
   "outputs": [],
   "source": [
    "x = torch.arange(8)\n",
    "print(x)\n",
    "y = torch.arange(2, 8)\n",
    "print(y)\n",
    "z = torch.arange(3, 10, step=2)\n",
    "print(z)"
   ]
  },
  {
   "cell_type": "code",
   "execution_count": 28,
   "id": "12fdc915",
   "metadata": {},
   "outputs": [
    {
     "name": "stdout",
     "output_type": "stream",
     "text": [
      "tensor([[[ 0.2396,  1.0896, -0.1992],\n",
      "         [-1.5749,  0.2217, -0.8958],\n",
      "         [ 0.5465, -0.0698, -0.0685],\n",
      "         [ 0.7298,  0.4961, -0.3993]],\n",
      "\n",
      "        [[ 1.5136,  0.7413, -1.5131],\n",
      "         [-0.1696,  2.0988,  1.3328],\n",
      "         [ 0.2153,  0.7144, -0.5948],\n",
      "         [-0.3043, -1.4424,  0.4823]],\n",
      "\n",
      "        [[-0.4183, -0.8408,  0.4138],\n",
      "         [-0.5216,  0.9769, -1.1030],\n",
      "         [-0.2563,  0.4654,  0.4270],\n",
      "         [ 0.0707,  2.4274,  0.2111]]])\n"
     ]
    }
   ],
   "source": [
    "print(x)"
   ]
  },
  {
   "cell_type": "code",
   "execution_count": 25,
   "id": "9c8ea08b",
   "metadata": {},
   "outputs": [
    {
     "name": "stdout",
     "output_type": "stream",
     "text": [
      "tensor([[1.0896, 0.2217, 0.5465, 0.7298],\n",
      "        [1.5136, 2.0988, 0.7144, 0.4823],\n",
      "        [0.4138, 0.9769, 0.4654, 2.4274]])\n"
     ]
    }
   ],
   "source": [
    "x = torch.randn(3, 4, 3)\n",
    "n, m, _ = x.shape\n",
    "y = torch.zeros(n, m)\n",
    "for i in range(n):\n",
    "    for j in range(m):\n",
    "        maxval = float(\"-inf\")\n",
    "        for v in x[i, j]:\n",
    "            if v > maxval:\n",
    "                maxval = v\n",
    "        y[i, j] = maxval\n",
    "print(y)"
   ]
  },
  {
   "cell_type": "code",
   "execution_count": 65,
   "id": "2e3cdeb0",
   "metadata": {},
   "outputs": [
    {
     "name": "stdout",
     "output_type": "stream",
     "text": [
      "tensor(7)\n"
     ]
    }
   ],
   "source": [
    "x=torch.randn(3, 4)\n",
    "a = 0\n",
    "b = 0\n",
    "for i in x.flatten():\n",
    "    a += i\n",
    "    b += 1\n",
    "mean = a / b\n",
    "c = 0\n",
    "for i in x.flatten():\n",
    "    if i > mean:\n",
    "        c += 1\n",
    "print(torch.as_tensor(c))\n"
   ]
  },
  {
   "cell_type": "code",
   "execution_count": 66,
   "id": "13e16ec3",
   "metadata": {},
   "outputs": [
    {
     "data": {
      "text/plain": [
       "2"
      ]
     },
     "execution_count": 66,
     "metadata": {},
     "output_type": "execute_result"
    }
   ],
   "source": [
    "x.ndim"
   ]
  },
  {
   "cell_type": "code",
   "execution_count": 69,
   "id": "edf8d549",
   "metadata": {},
   "outputs": [
    {
     "data": {
      "text/plain": [
       "tensor([-0.1672,  0.4994,  2.7196])"
      ]
     },
     "execution_count": 69,
     "metadata": {},
     "output_type": "execute_result"
    }
   ],
   "source": [
    "y = []\n",
    "for i in range(min(x.shape[0], x.shape[1])):\n",
    "    y.append(x[i, x.shape[1] - i - 1])\n",
    "torch.as_tensor(y)"
   ]
  },
  {
   "cell_type": "code",
   "execution_count": 95,
   "id": "92ac44f7",
   "metadata": {},
   "outputs": [],
   "source": [
    "x = torch.randn(10)"
   ]
  },
  {
   "cell_type": "code",
   "execution_count": 96,
   "id": "7b3eb4cd",
   "metadata": {},
   "outputs": [
    {
     "data": {
      "text/plain": [
       "tensor([-0.7961, -0.3833, -1.7750, -1.8434,  1.2864,  0.5855,  1.0285,  1.3601,\n",
       "         0.1545, -1.5512])"
      ]
     },
     "execution_count": 96,
     "metadata": {},
     "output_type": "execute_result"
    }
   ],
   "source": [
    "x"
   ]
  },
  {
   "cell_type": "code",
   "execution_count": 97,
   "id": "f97e8cbc",
   "metadata": {},
   "outputs": [
    {
     "data": {
      "text/plain": [
       "tensor([-0.7961, -1.1794, -2.9545, -4.7978, -3.5115, -2.9260, -1.8975, -0.5374,\n",
       "        -0.3829, -1.9340])"
      ]
     },
     "execution_count": 97,
     "metadata": {},
     "output_type": "execute_result"
    }
   ],
   "source": [
    "if len(x) == 0:\n",
    "    torch.as_tensor(x)\n",
    "y = [x[0]]\n",
    "for i in range(1, len(x)):\n",
    "    y.append(y[i - 1] + x[i])\n",
    "torch.as_tensor(y)"
   ]
  },
  {
   "cell_type": "code",
   "execution_count": 113,
   "id": "a1c316a5",
   "metadata": {},
   "outputs": [
    {
     "data": {
      "text/plain": [
       "tensor(-2.6735)"
      ]
     },
     "execution_count": 113,
     "metadata": {},
     "output_type": "execute_result"
    }
   ],
   "source": [
    "x[0:2][0][:2].sum()+x[0:1][0][:2].sum()"
   ]
  },
  {
   "cell_type": "code",
   "execution_count": 101,
   "id": "28f2d117",
   "metadata": {},
   "outputs": [
    {
     "data": {
      "text/plain": [
       "tensor([[-0.2218, -1.3367, -1.7241, -2.9111],\n",
       "        [ 0.6019, -0.8122, -1.7512, -2.8097],\n",
       "        [ 1.3458, -0.4468, -0.1452, -1.2139]])"
      ]
     },
     "execution_count": 101,
     "metadata": {},
     "output_type": "execute_result"
    }
   ],
   "source": [
    "x = torch.randn(3, 4)\n",
    "y = torch.zeros_like(x)\n",
    "for i in range(0, x.shape[0]):\n",
    "    for j in range(0, x.shape[1]):\n",
    "        y[i, j] = x[i, j]\n",
    "        if i > 0:\n",
    "            y[i, j] += y[i - 1, j]\n",
    "        if j > 0:\n",
    "            y[i, j] += y[i, j - 1]\n",
    "        if i > 0 and j > 0:\n",
    "            y[i, j] -= y[i - 1, j - 1]\n",
    "y"
   ]
  },
  {
   "cell_type": "code",
   "execution_count": 128,
   "id": "ec71dcf6",
   "metadata": {},
   "outputs": [
    {
     "data": {
      "text/plain": [
       "tensor([[-0.2218, -1.3367, -1.7241, -2.9111],\n",
       "        [ 0.6019, -0.8122, -1.7512, -2.8097],\n",
       "        [ 1.3458, -0.4468, -0.1452, -1.2139]])"
      ]
     },
     "execution_count": 128,
     "metadata": {},
     "output_type": "execute_result"
    }
   ],
   "source": [
    "x.cumsum(0).cumsum(1)"
   ]
  },
  {
   "cell_type": "code",
   "execution_count": 130,
   "id": "ec53163e",
   "metadata": {},
   "outputs": [],
   "source": [
    "c = torch.tensor(.1)"
   ]
  },
  {
   "cell_type": "code",
   "execution_count": 131,
   "id": "c33eb367",
   "metadata": {},
   "outputs": [
    {
     "data": {
      "text/plain": [
       "tensor([[-0.2218, -1.1150, -0.3874, -1.1870],\n",
       "        [ 0.8236, -0.2991, -0.5516,  0.1285],\n",
       "        [ 0.7440, -0.3785,  1.2405, -0.0102]])"
      ]
     },
     "execution_count": 131,
     "metadata": {},
     "output_type": "execute_result"
    }
   ],
   "source": [
    "x"
   ]
  },
  {
   "cell_type": "code",
   "execution_count": 132,
   "id": "c404c171",
   "metadata": {},
   "outputs": [
    {
     "data": {
      "text/plain": [
       "tensor([[0.0000, 0.0000, 0.0000, 0.0000],\n",
       "        [0.8236, 0.0000, 0.0000, 0.1285],\n",
       "        [0.7440, 0.0000, 1.2405, 0.0000]])"
      ]
     },
     "execution_count": 132,
     "metadata": {},
     "output_type": "execute_result"
    }
   ],
   "source": [
    "y = torch.zeros_like(x)\n",
    "for i in range(x.shape[0]):\n",
    "    for j in range(x.shape[1]):\n",
    "        if x[i, j] < c:\n",
    "            y[i, j] = 0.0\n",
    "        else:\n",
    "            y[i, j] = x[i, j]\n",
    "y"
   ]
  },
  {
   "cell_type": "code",
   "execution_count": 138,
   "id": "885c82d4",
   "metadata": {},
   "outputs": [
    {
     "data": {
      "text/plain": [
       "tensor([[-0.2218, -1.1150, -0.3874, -1.1870],\n",
       "        [ 0.8236, -0.2991, -0.5516,  0.1285],\n",
       "        [ 0.7440, -0.3785,  1.2405, -0.0102]])"
      ]
     },
     "execution_count": 138,
     "metadata": {},
     "output_type": "execute_result"
    }
   ],
   "source": [
    "x"
   ]
  },
  {
   "cell_type": "code",
   "execution_count": 137,
   "id": "3f506511",
   "metadata": {},
   "outputs": [
    {
     "data": {
      "text/plain": [
       "tensor([[0, 0, 0, 0, 1, 1, 2, 2],\n",
       "        [0, 1, 2, 3, 1, 2, 1, 3]])"
      ]
     },
     "execution_count": 137,
     "metadata": {},
     "output_type": "execute_result"
    }
   ],
   "source": [
    "row, col = [], []\n",
    "for i in range(x.shape[0]):\n",
    "    for j in range(x.shape[1]):\n",
    "        if x[i, j] < c:\n",
    "            row.append(i)\n",
    "            col.append(j)\n",
    "torch.as_tensor([row, col])"
   ]
  },
  {
   "cell_type": "code",
   "execution_count": 146,
   "id": "1dbd6fcb",
   "metadata": {},
   "outputs": [],
   "source": [
    "m=torch.randint(0, 2, (3,4))==1"
   ]
  },
  {
   "cell_type": "code",
   "execution_count": 147,
   "id": "5f313490",
   "metadata": {},
   "outputs": [
    {
     "data": {
      "text/plain": [
       "tensor([-0.2218, -1.1870,  0.8236, -0.5516,  0.7440, -0.3785,  1.2405])"
      ]
     },
     "execution_count": 147,
     "metadata": {},
     "output_type": "execute_result"
    }
   ],
   "source": [
    "y = []\n",
    "for i in range(x.shape[0]):\n",
    "    for j in range(x.shape[1]):\n",
    "        if m[i, j]:\n",
    "            y.append(x[i, j])\n",
    "torch.as_tensor(y)"
   ]
  },
  {
   "cell_type": "code",
   "execution_count": 148,
   "id": "6984a493",
   "metadata": {},
   "outputs": [
    {
     "data": {
      "text/plain": [
       "tensor([-0.2218, -1.1870,  0.8236, -0.5516,  0.7440, -0.3785,  1.2405])"
      ]
     },
     "execution_count": 148,
     "metadata": {},
     "output_type": "execute_result"
    }
   ],
   "source": [
    "x[m]"
   ]
  },
  {
   "cell_type": "code",
   "execution_count": 149,
   "id": "1216bdf5",
   "metadata": {},
   "outputs": [],
   "source": [
    "x = torch.randn(10)\n",
    "y = torch.randn(10)"
   ]
  },
  {
   "cell_type": "code",
   "execution_count": 150,
   "id": "7e0ba3fc",
   "metadata": {},
   "outputs": [
    {
     "data": {
      "text/plain": [
       "tensor([-0.2270, -0.8019,  0.3847, -1.2141,  1.6784, -0.6043, -1.4306,  1.2498,\n",
       "        -0.9699, -0.9782,  3.0032, -1.6413, -0.0584,  0.7134, -0.9048,  0.1824,\n",
       "         0.4316, -0.7614,  2.0675])"
      ]
     },
     "execution_count": 150,
     "metadata": {},
     "output_type": "execute_result"
    }
   ],
   "source": [
    "xy = []\n",
    "for xi in x:\n",
    "    xy.append(xi)\n",
    "for yi in y:\n",
    "    xy.append(yi)\n",
    "\n",
    "z = []\n",
    "for xy1, xy2 in zip(xy[1:], xy[:-1]):\n",
    "    z.append(xy1 - xy2)\n",
    "torch.as_tensor(z)"
   ]
  },
  {
   "cell_type": "code",
   "execution_count": 154,
   "id": "80b41b33",
   "metadata": {},
   "outputs": [
    {
     "data": {
      "text/plain": [
       "tensor([-0.2270, -0.8019,  0.3847, -1.2141,  1.6784, -0.6043, -1.4306,  1.2498,\n",
       "        -0.9699, -0.9782,  3.0032, -1.6413, -0.0584,  0.7134, -0.9048,  0.1824,\n",
       "         0.4316, -0.7614,  2.0675])"
      ]
     },
     "execution_count": 154,
     "metadata": {},
     "output_type": "execute_result"
    }
   ],
   "source": [
    "torch.concatenate([x,y]).diff()"
   ]
  },
  {
   "cell_type": "code",
   "execution_count": null,
   "id": "93e7b595",
   "metadata": {},
   "outputs": [],
   "source": []
  }
 ],
 "metadata": {
  "jupytext": {
   "cell_markers": "region,endregion"
  },
  "kernelspec": {
   "display_name": "dl_lectures",
   "language": "python",
   "name": "python3"
  },
  "language_info": {
   "codemirror_mode": {
    "name": "ipython",
    "version": 3
   },
   "file_extension": ".py",
   "mimetype": "text/x-python",
   "name": "python",
   "nbconvert_exporter": "python",
   "pygments_lexer": "ipython3",
   "version": "3.11.11"
  }
 },
 "nbformat": 4,
 "nbformat_minor": 5
}
